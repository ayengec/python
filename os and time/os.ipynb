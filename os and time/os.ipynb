{
  "cells":[
    {
      "cell_type":"code",
      "source":[
        "import os\n",
        "\n",
        "print(os.name)  # if it was Windows  \"nt\" others \"posix\"\n",
        "print(os.sep)   # in Windows OS       \"\\\\\" others \"\/\""
      ],
      "attachments":{
        
      },
      "execution_count":3,
      "outputs":[
        {
          "name":"stdout",
          "text":[
            "posix\n",
            "\/\n"
          ],
          "output_type":"stream"
        }
      ],
      "metadata":{
        
      }
    },
    {
      "cell_type":"code",
      "source":[
        "os.sep.join([\"usr\",\"bin\",\"lib\",\"python\"])   # we need to know os seperator because we probably use it"
      ],
      "attachments":{
        
      },
      "execution_count":5,
      "outputs":[
        {
          "data":{
            "text\/plain":[
              "'usr\/bin\/lib\/python'"
            ]
          },
          "metadata":{
            
          },
          "output_type":"display_data"
        }
      ],
      "metadata":{
        
      }
    },
    {
      "cell_type":"code",
      "source":[
        "os.getcwd()"
      ],
      "attachments":{
        
      },
      "execution_count":7,
      "outputs":[
        {
          "data":{
            "text\/plain":[
              "'\/workspace'"
            ]
          },
          "metadata":{
            
          },
          "output_type":"display_data"
        }
      ],
      "metadata":{
        
      }
    },
    {
      "cell_type":"code",
      "source":[
        "os.listdir()    # we can see other files in cunnret directory or we can give another path like os.listdir(\"\/usr\/dev\")"
      ],
      "attachments":{
        
      },
      "execution_count":10,
      "outputs":[
        {
          "data":{
            "text\/plain":[
              "['environment.yml', 'lost+found']"
            ]
          },
          "metadata":{
            
          },
          "output_type":"display_data"
        }
      ],
      "metadata":{
        
      }
    },
    {
      "cell_type":"code",
      "source":[
        "os.mkdir(\"myVideos\")"
      ],
      "attachments":{
        
      },
      "execution_count":49,
      "outputs":[
        
      ],
      "metadata":{
        
      }
    },
    {
      "cell_type":"code",
      "source":[
        "os.listdir()"
      ],
      "attachments":{
        
      },
      "execution_count":50,
      "outputs":[
        {
          "data":{
            "text\/plain":[
              "['myVideos', 'mydocs', 'environment.yml', 'lost+found']"
            ]
          },
          "metadata":{
            
          },
          "output_type":"display_data"
        }
      ],
      "metadata":{
        
      }
    },
    {
      "cell_type":"code",
      "source":[
        "os.chdir(\"\/workspace\/mydocs\")"
      ],
      "attachments":{
        
      },
      "execution_count":51,
      "outputs":[
        
      ],
      "metadata":{
        
      }
    },
    {
      "cell_type":"code",
      "source":[
        "with open(\"mytext.txt\",\"w\") as f:    # we create a text file\n",
        "    f.write(\"alican\")"
      ],
      "attachments":{
        
      },
      "execution_count":52,
      "outputs":[
        
      ],
      "metadata":{
        
      }
    },
    {
      "cell_type":"code",
      "source":[
        "os.listdir()            # we can see after created"
      ],
      "attachments":{
        
      },
      "execution_count":53,
      "outputs":[
        {
          "data":{
            "text\/plain":[
              "['mytext.txt']"
            ]
          },
          "metadata":{
            
          },
          "output_type":"display_data"
        }
      ],
      "metadata":{
        
      }
    },
    {
      "cell_type":"code",
      "source":[
        "os.getcwd()"
      ],
      "attachments":{
        
      },
      "execution_count":54,
      "outputs":[
        {
          "data":{
            "text\/plain":[
              "'\/workspace\/mydocs'"
            ]
          },
          "metadata":{
            
          },
          "output_type":"display_data"
        }
      ],
      "metadata":{
        
      }
    },
    {
      "cell_type":"code",
      "source":[
        "os.chdir(\"..\")  # it' s similarly working on terminal"
      ],
      "attachments":{
        
      },
      "execution_count":55,
      "outputs":[
        
      ],
      "metadata":{
        
      }
    },
    {
      "cell_type":"code",
      "source":[
        "os.getcwd()    # Look! we return back with \"..    \n",
        " # So, we can conclude that some methods likes the command prompt properties: for ex os.chdir(\"..\") = cd .."
      ],
      "attachments":{
        
      },
      "execution_count":56,
      "outputs":[
        {
          "data":{
            "text\/plain":[
              "'\/workspace'"
            ]
          },
          "metadata":{
            
          },
          "output_type":"display_data"
        }
      ],
      "metadata":{
        
      }
    },
    {
      "cell_type":"code",
      "source":[
        "os.rename(\"myVideos\",\"publicVideos\") # we can rename with this method rename(current name, new name)"
      ],
      "attachments":{
        
      },
      "execution_count":57,
      "outputs":[
        
      ],
      "metadata":{
        
      }
    },
    {
      "cell_type":"code",
      "source":[
        "os.listdir()"
      ],
      "attachments":{
        
      },
      "execution_count":58,
      "outputs":[
        {
          "data":{
            "text\/plain":[
              "['publicVideos', 'mydocs', 'environment.yml', 'lost+found']"
            ]
          },
          "metadata":{
            
          },
          "output_type":"display_data"
        }
      ],
      "metadata":{
        
      }
    },
    {
      "cell_type":"code",
      "source":[
        "os.rmdir(\"publicVideos\")    # it removes given foldername"
      ],
      "attachments":{
        
      },
      "execution_count":59,
      "outputs":[
        
      ],
      "metadata":{
        
      }
    },
    {
      "cell_type":"code",
      "source":[
        "os.listdir()"
      ],
      "attachments":{
        
      },
      "execution_count":60,
      "outputs":[
        {
          "data":{
            "text\/plain":[
              "['mydocs', 'environment.yml', 'lost+found']"
            ]
          },
          "metadata":{
            
          },
          "output_type":"display_data"
        }
      ],
      "metadata":{
        
      }
    },
    {
      "cell_type":"code",
      "source":[
        "os.stat(\"mydocs\/mytext.txt\")  # when it created? When it edited? etc..."
      ],
      "attachments":{
        
      },
      "execution_count":64,
      "outputs":[
        {
          "data":{
            "text\/plain":[
              "os.stat_result(st_mode=33188, st_ino=93959480089008, st_dev=58, st_nlink=1, st_uid=5000, st_gid=5000, st_size=6, st_atime=1623050421, st_mtime=1623050605, st_ctime=1623050605)"
            ]
          },
          "metadata":{
            
          },
          "output_type":"display_data"
        }
      ],
      "metadata":{
        
      }
    },
    {
      "cell_type":"code",
      "source":[
        "for path,pathName,filename in os.walk( os.getcwd() ):\n",
        "    print(filename)\n",
        "os.path.exists(\"\/workspace\/mydocs\")     # it returns whether given file exits or not."
      ],
      "attachments":{
        
      },
      "execution_count":91,
      "outputs":[
        {
          "name":"stdout",
          "text":[
            "['environment.yml']\n",
            "['mytext.txt']\n",
            "[]\n"
          ],
          "output_type":"stream"
        },
        {
          "data":{
            "text\/plain":[
              "True"
            ]
          },
          "metadata":{
            
          },
          "output_type":"display_data"
        }
      ],
      "metadata":{
        
      }
    },
    {
      "cell_type":"code",
      "source":[
        "os.path.abspath(\"mytext.txt\")               # it gives full path for given file"
      ],
      "attachments":{
        
      },
      "execution_count":94,
      "outputs":[
        {
          "data":{
            "text\/plain":[
              "'\/workspace\/mytext.txt'"
            ]
          },
          "metadata":{
            
          },
          "output_type":"display_data"
        }
      ],
      "metadata":{
        
      }
    },
    {
      "cell_type":"code",
      "source":[
        
      ],
      "attachments":{
        
      },
      "execution_count":0,
      "outputs":[
        
      ],
      "metadata":{
        
      }
    }
  ],
  "metadata":{
    
  },
  "nbformat":4,
  "nbformat_minor":0
}