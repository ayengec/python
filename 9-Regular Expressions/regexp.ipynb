{
  "cells":[
    {
      "cell_type":"code",
      "source":[
        "import re"
      ],
      "attachments":{
        
      },
      "execution_count":1,
      "outputs":[
        
      ],
      "metadata":{
        
      }
    },
    {
      "cell_type":"code",
      "source":[
        "my_str = \"Systemverilog is also used to FPGA design\""
      ],
      "attachments":{
        
      },
      "execution_count":6,
      "outputs":[
        
      ],
      "metadata":{
        
      }
    },
    {
      "cell_type":"code",
      "source":[
        "re.search(\"FPGA\", my_str)"
      ],
      "attachments":{
        
      },
      "execution_count":11,
      "outputs":[
        {
          "data":{
            "text\/plain":[
              "<re.Match object; span=(30, 34), match='FPGA'>"
            ]
          },
          "metadata":{
            
          },
          "output_type":"display_data"
        }
      ],
      "metadata":{
        
      }
    },
    {
      "cell_type":"code",
      "source":[
        "my_str[30:34]"
      ],
      "attachments":{
        
      },
      "execution_count":12,
      "outputs":[
        {
          "data":{
            "text\/plain":[
              "'FPGA'"
            ]
          },
          "metadata":{
            
          },
          "output_type":"display_data"
        }
      ],
      "metadata":{
        
      }
    },
    {
      "cell_type":"code",
      "source":[
        "is_match = re.search(\"also\", my_str)\n",
        "is_match.group()"
      ],
      "attachments":{
        
      },
      "execution_count":14,
      "outputs":[
        {
          "data":{
            "text\/plain":[
              "'also'"
            ]
          },
          "metadata":{
            
          },
          "output_type":"display_data"
        }
      ],
      "metadata":{
        
      }
    },
    {
      "cell_type":"code",
      "source":[
        "from urllib.request import urlopen\n",
        "\n",
        "keyword = \"hdl\"\n",
        "\n",
        "raw_url = urlopen(\"https:\/\/www.hdl-dh.com\") # or maybe with open(excel, text, etc) files\n",
        "m_data = str(raw_url.read())\n",
        "\n",
        "found = re.search(keyword, m_data)\n",
        "# found.group(): if keyword cannot be found and python return as \"AttributeError: 'NoneType' object has no attribute 'group'\"\n",
        "try :\n",
        "    print(\"Keyword is found:\", found.group())\n",
        "except AttributeError:\n",
        "    print(\"Cannot be found:\", keyword)"
      ],
      "attachments":{
        
      },
      "execution_count":30,
      "outputs":[
        {
          "name":"stdout",
          "text":[
            "Keyword is found: hdl\n"
          ],
          "output_type":"stream"
        }
      ],
      "metadata":{
        
      }
    },
    {
      "cell_type":"code",
      "source":[
        "import re\n",
        "m_parag =   \"\"\"A field-programmable gate array (FPGA) is an integrated circuit designed to be configured by a customer or \n",
        "a designer after manufacturing – hence the term \"field-programmable\". The FPGA configuration is generally specified \n",
        "using a hardware description language (HDL), similar to that used for an application-specific integrated circuit (ASIC). \n",
        "Circuit diagrams were previously used to specify the configuration, but this is increasingly rare due to the advent of \n",
        "electronic design automation tools.\n",
        "A Spartan FPGA from Xilinx\n",
        "FPGAs contain an array of programmable logic blocks, and a hierarchy of \"reconfigurable interconnects\" \n",
        "allowing blocks to be \"wired together\", like many logic gates that can be inter-wired in different configurations. \n",
        "Logic blocks can be configured to perform complex combinational functions, or merely simple logic gates like AND and XOR. \n",
        "In most FPGAs, logic blocks also include memory elements, which may be simple flip-flops or more complete blocks of memory.[1] \n",
        "Many FPGAs can be reprogrammed to implement different logic functions, allowing flexible reconfigurable computing as performed \n",
        "in computer software. FPGAs have a remarkable role in embedded system development due to their capability[2] to start system \n",
        "software (SW) development simultaneously with hardware (HW), enable system performance simulations at a very early phase of \n",
        "the development, and allow various system partitioning (SW and HW) trials and iterations before final freezing of the system \n",
        "architecture.\"\"\"\n",
        "\n",
        "re.findall(\"block\", m_parag)  # instead of using \"search\", we can use findall method and it returns all results as list type."
      ],
      "attachments":{
        
      },
      "execution_count":31,
      "outputs":[
        {
          "data":{
            "text\/plain":[
              "['block', 'block', 'block', 'block', 'block']"
            ]
          },
          "metadata":{
            
          },
          "output_type":"display_data"
        }
      ],
      "metadata":{
        
      }
    },
    {
      "cell_type":"code",
      "source":[
        "print(re.findall(\"[Ll]ogic ?block\", m_parag))"
      ],
      "attachments":{
        
      },
      "execution_count":33,
      "outputs":[
        {
          "name":"stdout",
          "text":[
            "['logic block', 'Logic block', 'logic block']\n"
          ],
          "output_type":"stream"
        }
      ],
      "metadata":{
        
      }
    },
    {
      "cell_type":"code",
      "source":[
        "print(re.search(\"hardware (.*?) language\" , m_parag, re.DOTALL).group(1))     # we can extract any words like this \n",
        "                                                                              # between two known words."
      ],
      "attachments":{
        
      },
      "execution_count":67,
      "outputs":[
        {
          "name":"stdout",
          "text":[
            "description\n"
          ],
          "output_type":"stream"
        }
      ],
      "metadata":{
        
      }
    },
    {
      "cell_type":"code",
      "source":[
        "matches = re.compile(\"circuit\", re.IGNORECASE)   # we also predefine our conditions\n",
        "matches.findall(m_parag)                         # it returns all satisfied words"
      ],
      "attachments":{
        
      },
      "execution_count":69,
      "outputs":[
        {
          "data":{
            "text\/plain":[
              "['circuit', 'circuit', 'Circuit']"
            ]
          },
          "metadata":{
            
          },
          "output_type":"display_data"
        }
      ],
      "metadata":{
        
      }
    }
  ],
  "metadata":{
    
  },
  "nbformat":4,
  "nbformat_minor":0
}