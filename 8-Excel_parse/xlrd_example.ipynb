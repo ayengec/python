{
 "cells": [
  {
   "cell_type": "code",
   "execution_count": 70,
   "id": "424c4279-fa34-4fc8-936c-318ec0cbe0fe",
   "metadata": {},
   "outputs": [
    {
     "name": "stdout",
     "output_type": "stream",
     "text": [
      "Requirement already satisfied: xlrd in /home/jupyterlab/conda/envs/python/lib/python3.6/site-packages (1.2.0)\n"
     ]
    }
   ],
   "source": [
    "!pip install xlrd"
   ]
  },
  {
   "cell_type": "code",
   "execution_count": 71,
   "id": "3a0d721d-ddfe-4bc7-96e4-c96f4aaa1efa",
   "metadata": {},
   "outputs": [],
   "source": [
    "import xlrd"
   ]
  },
  {
   "cell_type": "code",
   "execution_count": 72,
   "id": "84dcd23d-37b0-44ec-b2bf-e49030747c55",
   "metadata": {},
   "outputs": [],
   "source": [
    "xlPath = (\"datas/file_example_XLS_100.xls\")"
   ]
  },
  {
   "cell_type": "code",
   "execution_count": 73,
   "id": "60a62545-9303-4a77-b506-8e9bdd39b802",
   "metadata": {},
   "outputs": [],
   "source": [
    "wb = xlrd.open_workbook(xlPath)"
   ]
  },
  {
   "cell_type": "code",
   "execution_count": 74,
   "id": "b687a8dd-3056-4c34-9dcc-74b4308805c0",
   "metadata": {},
   "outputs": [],
   "source": [
    "sheet = wb.sheet_by_name(\"Sheet1\")"
   ]
  },
  {
   "cell_type": "code",
   "execution_count": 58,
   "id": "acae83f6-4db2-436f-af7a-c65c08c37d2c",
   "metadata": {},
   "outputs": [
    {
     "name": "stdout",
     "output_type": "stream",
     "text": [
      "France\n"
     ]
    }
   ],
   "source": [
    "print(sheet.cell_value(3, 4))"
   ]
  },
  {
   "cell_type": "code",
   "execution_count": 75,
   "id": "0e6276b1-6822-4b8f-9bcb-35dd6d6c8bef",
   "metadata": {},
   "outputs": [
    {
     "data": {
      "text/plain": [
       "'Magwood'"
      ]
     },
     "execution_count": 75,
     "metadata": {},
     "output_type": "execute_result"
    }
   ],
   "source": [
    "sheet.cell_value(5, 2)    # (row,column)"
   ]
  },
  {
   "cell_type": "code",
   "execution_count": 76,
   "id": "7bc19805-2339-4c77-8958-32922f2eff2d",
   "metadata": {},
   "outputs": [
    {
     "name": "stdout",
     "output_type": "stream",
     "text": [
      "Mara Hashimotois British.\n",
      "Etta Hurnis British.\n",
      "Fallon Winwardis British.\n",
      "Arcelia Bouskais British.\n",
      "Sherron Ascenciois British.\n",
      "Marcel Zabriskieis British.\n",
      "Kina Hazeltonis British.\n",
      "Lauralee Perrineis British.\n",
      "Many Cucciais British.\n",
      "Marvel Hailis British.\n",
      "Carla Trumbullis British.\n",
      "Veta Muntzis British.\n",
      "Stasia Beckeris British.\n",
      "Jona Grindleis British.\n",
      "Mara Hashimotois British.\n",
      "Etta Hurnis British.\n",
      "Fallon Winwardis British.\n",
      "Arcelia Bouskais British.\n",
      "Sherron Ascenciois British.\n",
      "Marcel Zabriskieis British.\n",
      "Kina Hazeltonis British.\n",
      "Lauralee Perrineis British.\n",
      "Many Cucciais British.\n",
      "Marvel Hailis British.\n",
      "Carla Trumbullis British.\n",
      "Veta Muntzis British.\n",
      "Stasia Beckeris British.\n",
      "Jona Grindleis British.\n"
     ]
    }
   ],
   "source": [
    "# we can print values with filtering like this;\n",
    "\n",
    "for row in range(sheet.nrows):\n",
    "    for col in range(sheet.ncols):\n",
    "        if \"Great Britain\" in str(sheet.cell_value(row, col)):\n",
    "            print(str(sheet.cell_value(row, col-3)) + \" \" + str(sheet.cell_value(row, col-2)) + \"is British.\")"
   ]
  }
 ],
 "metadata": {
  "kernelspec": {
   "display_name": "Python",
   "language": "python",
   "name": "conda-env-python-py"
  },
  "language_info": {
   "codemirror_mode": {
    "name": "ipython",
    "version": 3
   },
   "file_extension": ".py",
   "mimetype": "text/x-python",
   "name": "python",
   "nbconvert_exporter": "python",
   "pygments_lexer": "ipython3",
   "version": "3.6.13"
  }
 },
 "nbformat": 4,
 "nbformat_minor": 5
}
