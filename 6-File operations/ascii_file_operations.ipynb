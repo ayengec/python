{
 "cells": [
  {
   "cell_type": "markdown",
   "id": "eae30b57-6109-4541-94ad-9ac29cd4a039",
   "metadata": {},
   "source": [
    "ayengec python examples: file operation"
   ]
  },
  {
   "cell_type": "code",
   "execution_count": 25,
   "id": "4f43b711-a295-4fcb-afe6-da0ea886130d",
   "metadata": {},
   "outputs": [
    {
     "name": "stdout",
     "output_type": "stream",
     "text": [
      "square brackets line:\n",
      "\tascii code\t91\t[\t(square brackets or box brackets)\t\t\t\n",
      "\n",
      "square brackets line:\n",
      "\tascii code\t93\t]\t(square brackets or box brackets)\t\t\t\n",
      "\n"
     ]
    }
   ],
   "source": [
    "with open(\"docs/ascii_codes.txt\", \"r\") as file:\n",
    "    lines = file.readlines()\n",
    "    for line in lines:                 # to seek all lines\n",
    "        if \"square brackets\" in line:    # filter if line includes \"square brackets\" expression\n",
    "            print(\"square brackets line:\\n\\t\" + line)"
   ]
  },
  {
   "cell_type": "markdown",
   "id": "c1d74951-62e8-4696-a899-e664f57d4ac1",
   "metadata": {},
   "source": [
    "with open (filenamewith path, read/write/append) : This file is created if this file doesn't exist. Else, open this file."
   ]
  },
  {
   "cell_type": "code",
   "execution_count": 26,
   "id": "3dce42b9-4505-46fe-910a-cc8702e80ae7",
   "metadata": {},
   "outputs": [],
   "source": [
    "with open(\"docs/ascii_codes.txt\", \"a\") as file:   # a = append\n",
    "    file.write(\"{\\nASCII CODES END LINE! Here is appended with python code.\")"
   ]
  },
  {
   "cell_type": "markdown",
   "id": "181374e3-b1c1-4032-a433-c29e87b0b0c1",
   "metadata": {},
   "source": [
    "This line is appended at end line of txt file because we choose \"a\"(append) mode operation. "
   ]
  },
  {
   "cell_type": "code",
   "execution_count": 27,
   "id": "b59db809-75c6-4c72-9454-1e8ed3fd5b79",
   "metadata": {},
   "outputs": [],
   "source": [
    "f = open(\"docs/ascii_codes.txt\", \"r\")"
   ]
  },
  {
   "cell_type": "code",
   "execution_count": 28,
   "id": "fcacc09b-2d28-426a-9358-21a062af219b",
   "metadata": {},
   "outputs": [
    {
     "data": {
      "text/plain": [
       "'ASCII CODES END LINE! Here is appended with python code.'"
      ]
     },
     "execution_count": 28,
     "metadata": {},
     "output_type": "execute_result"
    }
   ],
   "source": [
    "lines = f.readlines()\n",
    "lines[-1]         # last element of the lines list means that is last line!"
   ]
  }
 ],
 "metadata": {
  "kernelspec": {
   "display_name": "Python",
   "language": "python",
   "name": "conda-env-python-py"
  },
  "language_info": {
   "codemirror_mode": {
    "name": "ipython",
    "version": 3
   },
   "file_extension": ".py",
   "mimetype": "text/x-python",
   "name": "python",
   "nbconvert_exporter": "python",
   "pygments_lexer": "ipython3",
   "version": "3.6.13"
  }
 },
 "nbformat": 4,
 "nbformat_minor": 5
}
