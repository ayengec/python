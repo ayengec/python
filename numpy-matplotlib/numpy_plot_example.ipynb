{
 "cells": [
  {
   "cell_type": "markdown",
   "id": "0d7ae9ed-6510-40ed-84b0-d9e75c822278",
   "metadata": {},
   "source": [
    "ayengec numpy and matplotlib example"
   ]
  },
  {
   "cell_type": "code",
   "execution_count": 15,
   "id": "a9124f2a-4d77-4136-a539-469a87a9dd34",
   "metadata": {},
   "outputs": [],
   "source": [
    "import matplotlib.pyplot as plt"
   ]
  },
  {
   "cell_type": "markdown",
   "id": "9444a7c2-7192-4378-a24e-070623b631e0",
   "metadata": {},
   "source": [
    "matplotlib is imported as plt shortcut"
   ]
  },
  {
   "cell_type": "code",
   "execution_count": 16,
   "id": "d74d6a61-0c9a-4b34-954b-f3a3b16fbc23",
   "metadata": {},
   "outputs": [],
   "source": [
    "import numpy as np"
   ]
  },
  {
   "cell_type": "markdown",
   "id": "fa36c5b7-ed95-415f-bb0c-66e2cc40cb53",
   "metadata": {},
   "source": [
    "numpy is imported as np shortcut. We use \"numpy\" module for math operations and arrays."
   ]
  },
  {
   "cell_type": "code",
   "execution_count": 17,
   "id": "025d3fd8-ff9b-47bd-9719-058411c7e332",
   "metadata": {},
   "outputs": [],
   "source": [
    "x = np.linspace(1, 2, 20)"
   ]
  },
  {
   "cell_type": "code",
   "execution_count": 18,
   "id": "f8a30383-4075-45ef-9794-5249bdb466b6",
   "metadata": {},
   "outputs": [
    {
     "data": {
      "text/plain": [
       "array([1.        , 1.05263158, 1.10526316, 1.15789474, 1.21052632,\n",
       "       1.26315789, 1.31578947, 1.36842105, 1.42105263, 1.47368421,\n",
       "       1.52631579, 1.57894737, 1.63157895, 1.68421053, 1.73684211,\n",
       "       1.78947368, 1.84210526, 1.89473684, 1.94736842, 2.        ])"
      ]
     },
     "execution_count": 18,
     "metadata": {},
     "output_type": "execute_result"
    }
   ],
   "source": [
    "x"
   ]
  },
  {
   "cell_type": "markdown",
   "id": "8f1864d6-f8e5-4ab6-bd1b-a0bcf00eb7d1",
   "metadata": {},
   "source": [
    "Definition from numpy documentation:\n",
    "    numpy.linspace(start, stop, num=50, endpoint=True, retstep=False, dtype=None, axis=0)"
   ]
  },
  {
   "cell_type": "code",
   "execution_count": 19,
   "id": "73bdf919-a66c-468a-b82c-24c1d778cb20",
   "metadata": {},
   "outputs": [],
   "source": [
    "y = 5/np.sqrt(x**5)"
   ]
  },
  {
   "cell_type": "code",
   "execution_count": 20,
   "id": "2d177bc4-22aa-48d8-a2e8-0b05e690b0a8",
   "metadata": {},
   "outputs": [
    {
     "data": {
      "text/plain": [
       "array([5.        , 4.39824095, 3.89319153, 3.46575058, 3.10123314,\n",
       "       2.78821271, 2.51770003, 2.28255177, 2.07703874, 1.89652656,\n",
       "       1.73723677, 1.59606609, 1.47044834, 1.35824796, 1.25767711,\n",
       "       1.16723073, 1.08563515, 1.01180718, 0.94482135, 0.88388348])"
      ]
     },
     "execution_count": 20,
     "metadata": {},
     "output_type": "execute_result"
    }
   ],
   "source": [
    "y"
   ]
  },
  {
   "cell_type": "markdown",
   "id": "7e853f22-ed88-4f17-bb4e-3f3f56b3e3e0",
   "metadata": {},
   "source": [
    "y is our equation so (y = 5/sqrt(x^5) )"
   ]
  },
  {
   "cell_type": "markdown",
   "id": "826381dd-e922-4893-b7cb-778bb4cc9063",
   "metadata": {},
   "source": [
    "to get 17. value of y array"
   ]
  },
  {
   "cell_type": "code",
   "execution_count": 21,
   "id": "641c6fc1-15bd-4604-865f-ae6cc9a266c9",
   "metadata": {},
   "outputs": [
    {
     "data": {
      "text/plain": [
       "1.0118071750374122"
      ]
     },
     "execution_count": 21,
     "metadata": {},
     "output_type": "execute_result"
    }
   ],
   "source": [
    "y[17]"
   ]
  },
  {
   "cell_type": "markdown",
   "id": "1ad9467c-819a-4448-8f26-fee45517a397",
   "metadata": {},
   "source": [
    "we will call plot function from matplotlib with our equation parameters and red, marker selection"
   ]
  },
  {
   "cell_type": "code",
   "execution_count": 22,
   "id": "eae8578e-2d8c-40ad-a72d-d4c2124b685d",
   "metadata": {},
   "outputs": [
    {
     "data": {
      "text/plain": [
       "[<matplotlib.lines.Line2D at 0x7f05c1c0ae10>]"
      ]
     },
     "execution_count": 22,
     "metadata": {},
     "output_type": "execute_result"
    },
    {
     "data": {
      "image/png": "[encoded data removed]",
      "text/plain": [
       "<Figure size 432x288 with 1 Axes>"
      ]
     },
     "metadata": {
      "needs_background": "light"
     },
     "output_type": "display_data"
    }
   ],
   "source": [
    "plt.plot(x, y, color='red', marker='o')"
   ]
  }
 ],
 "metadata": {
  "kernelspec": {
   "display_name": "Python",
   "language": "python",
   "name": "conda-env-python-py"
  },
  "language_info": {
   "codemirror_mode": {
    "name": "ipython",
    "version": 3
   },
   "file_extension": ".py",
   "mimetype": "text/x-python",
   "name": "python",
   "nbconvert_exporter": "python",
   "pygments_lexer": "ipython3",
   "version": "3.6.13"
  }
 },
 "nbformat": 4,
 "nbformat_minor": 5
}
