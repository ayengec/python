{
  "cells":[
    {
      "cell_type":"code",
      "source":[
        "import time"
      ],
      "attachments":{
        
      },
      "execution_count":1,
      "outputs":[
        
      ],
      "metadata":{
        
      }
    },
    {
      "cell_type":"code",
      "source":[
        "startpoint = time.gmtime()"
      ],
      "attachments":{
        
      },
      "execution_count":2,
      "outputs":[
        
      ],
      "metadata":{
        
      }
    },
    {
      "cell_type":"code",
      "source":[
        "print( \" Start point => %s      M\/D:%s\/%s    H\/M: %s:%s \"\n",
        "                    %(startpoint.tm_year, startpoint.tm_mon, startpoint.tm_mday, startpoint.tm_hour, startpoint.tm_min) )"
      ],
      "attachments":{
        
      },
      "execution_count":22,
      "outputs":[
        {
          "name":"stdout",
          "text":[
            " Start point => 2021      M\/D:6\/7    H\/M: 6:43 \n"
          ],
          "output_type":"stream"
        }
      ],
      "metadata":{
        
      }
    },
    {
      "cell_type":"code",
      "source":[
        "time.gmtime(time.time())        # how many times passed from importing time module"
      ],
      "attachments":{
        
      },
      "execution_count":28,
      "outputs":[
        {
          "data":{
            "text\/plain":[
              "time.struct_time(tm_year=2021, tm_mon=6, tm_mday=7, tm_hour=6, tm_min=53, tm_sec=46, tm_wday=0, tm_yday=158, tm_isdst=0)"
            ]
          },
          "metadata":{
            
          },
          "output_type":"display_data"
        }
      ],
      "metadata":{
        
      }
    },
    {
      "cell_type":"code",
      "source":[
        "time.strftime('%c')"
      ],
      "attachments":{
        
      },
      "execution_count":30,
      "outputs":[
        {
          "data":{
            "text\/plain":[
              "'Mon Jun  7 06:54:43 2021'"
            ]
          },
          "metadata":{
            
          },
          "output_type":"display_data"
        }
      ],
      "metadata":{
        
      }
    },
    {
      "cell_type":"code",
      "source":[
        "for i in range(10):         # We can take delay with sleep method\n",
        "    print(str(i) + time.strftime('%c'))\n",
        "    time.sleep(2)"
      ],
      "attachments":{
        
      },
      "execution_count":34,
      "outputs":[
        {
          "name":"stdout",
          "text":[
            "0Mon Jun  7 06:56:28 2021\n",
            "1Mon Jun  7 06:56:30 2021\n",
            "2Mon Jun  7 06:56:32 2021\n",
            "3Mon Jun  7 06:56:34 2021\n",
            "4Mon Jun  7 06:56:36 2021\n",
            "5Mon Jun  7 06:56:38 2021\n",
            "6Mon Jun  7 06:56:40 2021\n",
            "7Mon Jun  7 06:56:42 2021\n",
            "8Mon Jun  7 06:56:44 2021\n",
            "9Mon Jun  7 06:56:46 2021\n"
          ],
          "output_type":"stream"
        }
      ],
      "metadata":{
        
      }
    }
  ],
  "metadata":{
    
  },
  "nbformat":4,
  "nbformat_minor":0
}